{
 "cells": [
  {
   "cell_type": "code",
   "execution_count": 7,
   "id": "finnish-processing",
   "metadata": {},
   "outputs": [],
   "source": [
    "from imutils import face_utils, resize\n",
    "import dlib\n",
    "import cv2"
   ]
  },
  {
   "cell_type": "code",
   "execution_count": 8,
   "id": "understood-difference",
   "metadata": {},
   "outputs": [],
   "source": [
    "adres=\"shape_predictor_68_face_landmarks.dat\""
   ]
  },
  {
   "cell_type": "code",
   "execution_count": 9,
   "id": "bulgarian-talent",
   "metadata": {},
   "outputs": [],
   "source": [
    "detector=dlib.get_frontal_face_detector()"
   ]
  },
  {
   "cell_type": "code",
   "execution_count": 10,
   "id": "fluid-anime",
   "metadata": {},
   "outputs": [],
   "source": [
    "predictor=dlib.shape_predictor(adres)"
   ]
  },
  {
   "cell_type": "code",
   "execution_count": 19,
   "id": "continent-ethiopia",
   "metadata": {},
   "outputs": [],
   "source": [
    "#kamera=cv2.VideoCapture(0)\n",
    "while True:\n",
    "    kare=cv2.imread(\"aaa.jpg\")\n",
    "    #ret,kare=kamera.read()\n",
    "    #kare=cv2.flip(kare,1)\n",
    "   #kare=kare.resize(kare,800)\n",
    "    gri=cv2.cvtColor(kare,cv2.COLOR_BGR2GRAY)\n",
    "    kutular=detector(gri,0)\n",
    "    for (i,kutu) in enumerate(kutular):\n",
    "        sekil=predictor(gri,kutu)\n",
    "        sekil=face_utils.shape_to_np(sekil)\n",
    "        j=0\n",
    "        for (x,y) in sekil:\n",
    "            #renk=(0,0,255)\n",
    "            #if j<63:\n",
    "             #   print(j) \n",
    "               \n",
    "            cv2.circle(kare,(x,y),3,(0,0,255),1)\n",
    "            #cv2.putText(kare,\"\",(x,y),cv2.FONT_HERSHEY_SIMPLEX,0.5,(0,0,255),1)\n",
    "            #j=j+1\n",
    "    cv2.imshow(\"kare\",kare)\n",
    "   \n",
    "    k=cv2.waitKey(5) & 0xFF\n",
    "    if k==27 or k==ord('q'):\n",
    "        break\n",
    "cv2.destroyAllWindows()        "
   ]
  },
  {
   "cell_type": "code",
   "execution_count": null,
   "id": "latest-asian",
   "metadata": {},
   "outputs": [],
   "source": []
  }
 ],
 "metadata": {
  "kernelspec": {
   "display_name": "Python 3",
   "language": "python",
   "name": "python3"
  },
  "language_info": {
   "codemirror_mode": {
    "name": "ipython",
    "version": 3
   },
   "file_extension": ".py",
   "mimetype": "text/x-python",
   "name": "python",
   "nbconvert_exporter": "python",
   "pygments_lexer": "ipython3",
   "version": "3.8.5"
  }
 },
 "nbformat": 4,
 "nbformat_minor": 5
}
